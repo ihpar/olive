{
 "cells": [
  {
   "cell_type": "code",
   "execution_count": 1,
   "metadata": {},
   "outputs": [],
   "source": [
    "import pickle\n",
    "import numpy as np\n",
    "from sensor import get_sensor_tuple_data\n",
    "from sklearn.preprocessing import StandardScaler\n",
    "from sklearn.model_selection import train_test_split\n",
    "from sklearn.metrics import r2_score, mean_absolute_error\n",
    "\n",
    "from sklearn.svm import SVR\n",
    "from sklearn.ensemble import GradientBoostingRegressor\n",
    "from sklearn.linear_model import LinearRegression, ElasticNet, SGDRegressor, BayesianRidge"
   ]
  },
  {
   "cell_type": "code",
   "execution_count": 2,
   "metadata": {},
   "outputs": [],
   "source": [
    "with open(\"sensor_labels.pkl\", \"rb\") as f:\n",
    "    labels = pickle.load(f)\n",
    "\n",
    "with open(\"interpolation_functions.pkl\", \"rb\") as f:\n",
    "    interp_funcs = pickle.load(f)"
   ]
  },
  {
   "cell_type": "code",
   "execution_count": 3,
   "metadata": {},
   "outputs": [
    {
     "name": "stdout",
     "output_type": "stream",
     "text": [
      "Sensors 0 & 1\n",
      "Sensors 2 & 3\n",
      "Sensors 4 & 5\n",
      "Sensors 6 & 7\n"
     ]
    }
   ],
   "source": [
    "rs = 42\n",
    "r2_dict = {\n",
    "    \"LR\": [],\n",
    "    \"GBR\": [],\n",
    "    \"EN\": [],\n",
    "    \"SGDR\": [],\n",
    "    \"SVR\": [],\n",
    "    \"BR\": []\n",
    "}\n",
    "mae_dict = {\n",
    "    \"LR\": [],\n",
    "    \"GBR\": [],\n",
    "    \"EN\": [],\n",
    "    \"SGDR\": [],\n",
    "    \"SVR\": [],\n",
    "    \"BR\": []\n",
    "}\n",
    "\n",
    "\n",
    "for s in range(0, 8, 2):\n",
    "    s_l, s_r = s, s+1\n",
    "    print(f\"Sensors {s_l} & {s_r}\")\n",
    "\n",
    "    X_0, _, y, _ = get_sensor_tuple_data(0, s_l, s_r, interp_funcs, labels)\n",
    "    X_1, _, _, _ = get_sensor_tuple_data(1, s_l, s_r, interp_funcs, labels)\n",
    "    X = X_0 - X_1\n",
    "    X_train, X_test, y_train, y_test = train_test_split(X, y,\n",
    "                                                        test_size=0.2,\n",
    "                                                        random_state=rs)\n",
    "    scaler = StandardScaler()\n",
    "    X_train = scaler.fit_transform(X_train)\n",
    "    X_test = scaler.transform(X_test)\n",
    "\n",
    "    model = LinearRegression()\n",
    "    model = model.fit(X_train, y_train)\n",
    "    y_pred = model.predict(X_test)\n",
    "    reg = \"LR\"\n",
    "    score_r2 = np.round(r2_score(y_test, y_pred), 3)\n",
    "    score_mae = np.round(mean_absolute_error(y_test, y_pred), 3)\n",
    "    r2_dict[reg].append(score_r2)\n",
    "    mae_dict[reg].append(score_mae)\n",
    "\n",
    "    model = GradientBoostingRegressor()\n",
    "    model = model.fit(X_train, y_train)\n",
    "    y_pred = model.predict(X_test)\n",
    "    reg = \"GBR\"\n",
    "    score_r2 = np.round(r2_score(y_test, y_pred), 3)\n",
    "    score_mae = np.round(mean_absolute_error(y_test, y_pred), 3)\n",
    "    r2_dict[reg].append(score_r2)\n",
    "    mae_dict[reg].append(score_mae)\n",
    "\n",
    "    model = ElasticNet()\n",
    "    model = model.fit(X_train, y_train)\n",
    "    y_pred = model.predict(X_test)\n",
    "    reg = \"EN\"\n",
    "    score_r2 = np.round(r2_score(y_test, y_pred), 3)\n",
    "    score_mae = np.round(mean_absolute_error(y_test, y_pred), 3)\n",
    "    r2_dict[reg].append(score_r2)\n",
    "    mae_dict[reg].append(score_mae)\n",
    "\n",
    "    model = SGDRegressor()\n",
    "    model = model.fit(X_train, y_train)\n",
    "    y_pred = model.predict(X_test)\n",
    "    reg = \"SGDR\"\n",
    "    score_r2 = np.round(r2_score(y_test, y_pred), 3)\n",
    "    score_mae = np.round(mean_absolute_error(y_test, y_pred), 3)\n",
    "    r2_dict[reg].append(score_r2)\n",
    "    mae_dict[reg].append(score_mae)\n",
    "\n",
    "    model = SVR()\n",
    "    model = model.fit(X_train, y_train)\n",
    "    y_pred = model.predict(X_test)\n",
    "    reg = \"SVR\"\n",
    "    score_r2 = np.round(r2_score(y_test, y_pred), 3)\n",
    "    score_mae = np.round(mean_absolute_error(y_test, y_pred), 3)\n",
    "    r2_dict[reg].append(score_r2)\n",
    "    mae_dict[reg].append(score_mae)\n",
    "\n",
    "    model = BayesianRidge()\n",
    "    model = model.fit(X_train, y_train)\n",
    "    y_pred = model.predict(X_test)\n",
    "    reg = \"BR\"\n",
    "    score_r2 = np.round(r2_score(y_test, y_pred), 3)\n",
    "    score_mae = np.round(mean_absolute_error(y_test, y_pred), 3)\n",
    "    r2_dict[reg].append(score_r2)\n",
    "    mae_dict[reg].append(score_mae)"
   ]
  },
  {
   "cell_type": "code",
   "execution_count": 4,
   "metadata": {},
   "outputs": [],
   "source": [
    "import pandas as pd\n",
    "df = pd.DataFrame(r2_dict)\n",
    "df.to_excel(\"regressor_scores_r2.xlsx\")\n",
    "df = pd.DataFrame(mae_dict)\n",
    "df.to_excel(\"regressor_scores_mae.xlsx\")"
   ]
  },
  {
   "cell_type": "code",
   "execution_count": null,
   "metadata": {},
   "outputs": [],
   "source": []
  }
 ],
 "metadata": {
  "kernelspec": {
   "display_name": "mlenv",
   "language": "python",
   "name": "python3"
  },
  "language_info": {
   "codemirror_mode": {
    "name": "ipython",
    "version": 3
   },
   "file_extension": ".py",
   "mimetype": "text/x-python",
   "name": "python",
   "nbconvert_exporter": "python",
   "pygments_lexer": "ipython3",
   "version": "3.12.2"
  }
 },
 "nbformat": 4,
 "nbformat_minor": 2
}
