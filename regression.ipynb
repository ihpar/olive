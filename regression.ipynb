{
 "cells": [
  {
   "cell_type": "code",
   "execution_count": 10,
   "metadata": {},
   "outputs": [],
   "source": [
    "import pickle\n",
    "import numpy as np\n",
    "from dataset import Dataset\n",
    "import matplotlib.pyplot as plt\n",
    "from sklearn.metrics import r2_score\n",
    "from sklearn.preprocessing import StandardScaler\n",
    "from sklearn.model_selection import train_test_split\n",
    "\n",
    "from sklearn.svm import SVR\n",
    "from sklearn.ensemble import GradientBoostingRegressor\n",
    "from sklearn.linear_model import LinearRegression, ElasticNet, SGDRegressor, BayesianRidge"
   ]
  },
  {
   "cell_type": "code",
   "execution_count": 2,
   "metadata": {},
   "outputs": [],
   "source": [
    "with open(\"lpf_sensor_data.pkl\", \"rb\") as f:\n",
    "    sensor_data = pickle.load(f)\n",
    "\n",
    "with open(\"sensor_labels.pkl\", \"rb\") as f:\n",
    "    labels = pickle.load(f)\n",
    "\n",
    "with open(\"interpolation_functions.pkl\", \"rb\") as f:\n",
    "    interp_funcs = pickle.load(f)\n",
    "\n",
    "dataset = Dataset(sensor_data, labels, interp_funcs)"
   ]
  },
  {
   "cell_type": "code",
   "execution_count": 12,
   "metadata": {},
   "outputs": [],
   "source": [
    "rs = 42\n",
    "results = {\n",
    "    \"mat_0\": {\"s_0_1\": [], \"s_2_3\": [], \"s_4_5\": [], \"s_6_7\": []},\n",
    "    \"mat_1\": {\"s_0_1\": [], \"s_2_3\": [], \"s_4_5\": [], \"s_6_7\": []}\n",
    "}\n",
    "df_dict = {\n",
    "    \"LR\": [],\n",
    "    \"GBR\": [],\n",
    "    \"EN\": [],\n",
    "    \"SGDR\": [],\n",
    "    \"SVR\": [],\n",
    "    \"BR\": []\n",
    "}\n",
    "\n",
    "for matrix in range(2):\n",
    "    for s in range(0, 8, 2):\n",
    "        s_l, s_r = s, s+1\n",
    "        X, y, _, targets = dataset.get_sensor_pair_cls(matrix,\n",
    "                                                       (s_l, s_r),\n",
    "                                                       num_samples=100,\n",
    "                                                       as_log=True,\n",
    "                                                       as_mean=False)\n",
    "        X, y = dataset.clean_up_regression_data(X, targets)\n",
    "        X_train, X_test, y_train, y_test = train_test_split(X, y,\n",
    "                                                            test_size=0.2,\n",
    "                                                            random_state=rs)\n",
    "        scaler = StandardScaler()\n",
    "        X_train = scaler.fit_transform(X_train)\n",
    "        X_test = scaler.transform(X_test)\n",
    "\n",
    "        model = LinearRegression()\n",
    "        model = model.fit(X_train, y_train)\n",
    "        y_pred = model.predict(X_test)\n",
    "        score_r2 = r2_score(y_test, y_pred)\n",
    "        reg = \"LR\"\n",
    "        results[f\"mat_{matrix}\"][f\"s_{s_l}_{s_r}\"].append(\n",
    "            {\"reg\": reg, \"r2\": np.round(score_r2, 3)}\n",
    "        )\n",
    "        df_dict[reg].append(np.round(score_r2, 3))\n",
    "\n",
    "        model = GradientBoostingRegressor()\n",
    "        model = model.fit(X_train, y_train)\n",
    "        y_pred = model.predict(X_test)\n",
    "        score_r2 = r2_score(y_test, y_pred)\n",
    "        reg = \"GBR\"\n",
    "        results[f\"mat_{matrix}\"][f\"s_{s_l}_{s_r}\"].append(\n",
    "            {\"reg\": reg, \"r2\": np.round(score_r2, 3)}\n",
    "        )\n",
    "        df_dict[reg].append(np.round(score_r2, 3))\n",
    "\n",
    "        model = ElasticNet()\n",
    "        model = model.fit(X_train, y_train)\n",
    "        y_pred = model.predict(X_test)\n",
    "        score_r2 = r2_score(y_test, y_pred)\n",
    "        reg = \"EN\"\n",
    "        results[f\"mat_{matrix}\"][f\"s_{s_l}_{s_r}\"].append(\n",
    "            {\"reg\": reg, \"r2\": np.round(score_r2, 3)}\n",
    "        )\n",
    "        df_dict[reg].append(np.round(score_r2, 3))\n",
    "\n",
    "        model = SGDRegressor()\n",
    "        model = model.fit(X_train, y_train)\n",
    "        y_pred = model.predict(X_test)\n",
    "        score_r2 = r2_score(y_test, y_pred)\n",
    "        reg = \"SGDR\"\n",
    "        results[f\"mat_{matrix}\"][f\"s_{s_l}_{s_r}\"].append(\n",
    "            {\"reg\": reg, \"r2\": np.round(score_r2, 3)}\n",
    "        )\n",
    "        df_dict[reg].append(np.round(score_r2, 3))\n",
    "\n",
    "        model = SVR()\n",
    "        model = model.fit(X_train, y_train)\n",
    "        y_pred = model.predict(X_test)\n",
    "        score_r2 = r2_score(y_test, y_pred)\n",
    "        reg = \"SVR\"\n",
    "        results[f\"mat_{matrix}\"][f\"s_{s_l}_{s_r}\"].append(\n",
    "            {\"reg\": reg, \"r2\": np.round(score_r2, 3)}\n",
    "        )\n",
    "        df_dict[reg].append(np.round(score_r2, 3))\n",
    "\n",
    "        model = BayesianRidge()\n",
    "        model = model.fit(X_train, y_train)\n",
    "        y_pred = model.predict(X_test)\n",
    "        score_r2 = r2_score(y_test, y_pred)\n",
    "        reg = \"BR\"\n",
    "        results[f\"mat_{matrix}\"][f\"s_{s_l}_{s_r}\"].append(\n",
    "            {\"reg\": reg, \"r2\": np.round(score_r2, 3)}\n",
    "        )\n",
    "        df_dict[reg].append(np.round(score_r2, 3))"
   ]
  },
  {
   "cell_type": "code",
   "execution_count": 13,
   "metadata": {},
   "outputs": [
    {
     "data": {
      "text/plain": [
       "{'LR': [0.998, 0.999, 0.999, 1.0, 0.997, 1.0, 0.999, 1.0],\n",
       " 'GBR': [1.0, 1.0, 1.0, 1.0, 1.0, 1.0, 1.0, 1.0],\n",
       " 'EN': [0.973, 0.934, 0.962, 0.957, 0.976, 0.991, 0.982, 0.98],\n",
       " 'SGDR': [0.994, 0.996, 0.997, 0.998, 0.984, 0.999, 0.998, 0.999],\n",
       " 'SVR': [0.994, 0.991, 0.996, 0.996, 0.984, 0.998, 0.987, 0.993],\n",
       " 'BR': [0.998, 0.999, 0.999, 1.0, 0.997, 1.0, 0.999, 1.0]}"
      ]
     },
     "execution_count": 13,
     "metadata": {},
     "output_type": "execute_result"
    }
   ],
   "source": [
    "df_dict"
   ]
  },
  {
   "cell_type": "code",
   "execution_count": 14,
   "metadata": {},
   "outputs": [],
   "source": [
    "import pandas as pd\n",
    "df = pd.DataFrame(df_dict)\n",
    "df.to_excel(\"regressor_scores.xlsx\")"
   ]
  },
  {
   "cell_type": "code",
   "execution_count": null,
   "metadata": {},
   "outputs": [],
   "source": []
  }
 ],
 "metadata": {
  "kernelspec": {
   "display_name": "mlenv",
   "language": "python",
   "name": "python3"
  },
  "language_info": {
   "codemirror_mode": {
    "name": "ipython",
    "version": 3
   },
   "file_extension": ".py",
   "mimetype": "text/x-python",
   "name": "python",
   "nbconvert_exporter": "python",
   "pygments_lexer": "ipython3",
   "version": "3.12.2"
  }
 },
 "nbformat": 4,
 "nbformat_minor": 2
}
