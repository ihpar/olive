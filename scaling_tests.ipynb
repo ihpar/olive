{
 "cells": [
  {
   "cell_type": "code",
   "execution_count": 1,
   "metadata": {},
   "outputs": [],
   "source": [
    "import pickle\n",
    "import numpy as np\n",
    "from dataset import Dataset\n",
    "import plotly.graph_objects as go\n",
    "\n",
    "from sklearn.model_selection import train_test_split\n",
    "from sklearn.metrics import f1_score, accuracy_score\n",
    "\n",
    "from sklearn.preprocessing import MinMaxScaler\n",
    "from sklearn.tree import DecisionTreeClassifier\n",
    "from sklearn.neural_network import MLPClassifier"
   ]
  },
  {
   "cell_type": "code",
   "execution_count": 2,
   "metadata": {},
   "outputs": [],
   "source": [
    "with open(\"lpf_sensor_data.pkl\", \"rb\") as f:\n",
    "    sensor_data = pickle.load(f)\n",
    "\n",
    "with open(\"sensor_labels.pkl\", \"rb\") as f:\n",
    "    labels = pickle.load(f)\n",
    "\n",
    "with open(\"interpolation_functions.pkl\", \"rb\") as f:\n",
    "    interp_funcs = pickle.load(f)"
   ]
  },
  {
   "cell_type": "code",
   "execution_count": 3,
   "metadata": {},
   "outputs": [],
   "source": [
    "dataset = Dataset(sensor_data, labels, interp_funcs)"
   ]
  },
  {
   "cell_type": "code",
   "execution_count": 4,
   "metadata": {},
   "outputs": [],
   "source": [
    "def plot_data(X, time_arr, title):\n",
    "    data_T = X.T\n",
    "    fig = go.Figure()\n",
    "\n",
    "    for i, data in enumerate(data_T):\n",
    "        fig.add_trace(go.Scatter(x=time_arr,\n",
    "                                 y=data,\n",
    "                                 mode=\"markers\",\n",
    "                                 name=f\"H.S. {i}\"))\n",
    "\n",
    "    fig.update_layout(title=title, title_x=0.5, width=1000, height=400)\n",
    "    fig.update_traces(marker=dict(size=2))\n",
    "    fig.show()"
   ]
  },
  {
   "cell_type": "code",
   "execution_count": null,
   "metadata": {},
   "outputs": [],
   "source": [
    "for s in range(0, 8, 2):\n",
    "    matrix = 0\n",
    "    s_l = s\n",
    "    s_r = s+1\n",
    "    X, y, time_arr, targets = dataset.get_sensor_pair_cls(matrix,\n",
    "                                                          (s_l, s_r),\n",
    "                                                          num_samples=100,\n",
    "                                                          as_log=True,\n",
    "                                                          as_mean=False)\n",
    "\n",
    "    title = f\"Matrix {matrix}, Sensors {s_l} - {s_r}\"\n",
    "    # plot_data(X, time_arr, title)\n",
    "\n",
    "    X_train, X_test, y_train, y_test = train_test_split(X, y,\n",
    "                                                        test_size=0.2,\n",
    "                                                        random_state=42)\n",
    "\n",
    "    clf = DecisionTreeClassifier(criterion=\"entropy\", max_depth=3)\n",
    "    clf = clf.fit(X_train, y_train)\n",
    "    y_pred = clf.predict(X_test)\n",
    "    accuracy = accuracy_score(y_test, y_pred)\n",
    "    f1 = f1_score(y_test, y_pred, average=\"weighted\")\n",
    "    print(f\"Dec Tree Accuracy: {accuracy:.3f} F1: {f1:.3f}\")\n",
    "\n",
    "    scaler = MinMaxScaler()\n",
    "    X_train_scaled = scaler.fit_transform(X_train)\n",
    "    X_test_scaled = scaler.transform(X_test)\n",
    "    clf = MLPClassifier(max_iter=5000)\n",
    "    clf = clf.fit(X_train_scaled, y_train)\n",
    "    y_pred = clf.predict(X_test_scaled)\n",
    "    accuracy = accuracy_score(y_test, y_pred)\n",
    "    f1 = f1_score(y_test, y_pred, average=\"weighted\")\n",
    "    print(f\"MLP: Accuracy: {accuracy:.3f} F1: {f1:.3f}\")"
   ]
  },
  {
   "cell_type": "code",
   "execution_count": 5,
   "metadata": {},
   "outputs": [],
   "source": [
    "def plot_data_pair(X_l, X_r, time_arr, title):\n",
    "    data_T_l = X_l.T\n",
    "    data_T_r = X_r.T\n",
    "    fig = go.Figure()\n",
    "\n",
    "    for i, data in enumerate(data_T_l):\n",
    "        fig.add_trace(go.Scatter(x=time_arr,\n",
    "                                 y=data,\n",
    "                                 mode=\"markers\",\n",
    "                                 name=f\"L {i}\"))\n",
    "    for i, data in enumerate(data_T_r):\n",
    "        fig.add_trace(go.Scatter(x=time_arr,\n",
    "                                 y=data,\n",
    "                                 mode=\"markers\",\n",
    "                                 name=f\"R {i}\"))\n",
    "\n",
    "    fig.update_layout(title=title, title_x=0.5, width=1000, height=600)\n",
    "    fig.update_traces(marker=dict(size=2))\n",
    "    fig.show()"
   ]
  },
  {
   "cell_type": "code",
   "execution_count": null,
   "metadata": {},
   "outputs": [],
   "source": [
    "matrix = 0\n",
    "for s in range(0, 2, 2):\n",
    "    s_l = s\n",
    "    s_r = s+1\n",
    "    X_l, y_l, time_arr_l, targets_l = dataset.get_sensor_cls(matrix,\n",
    "                                                             s_l,\n",
    "                                                             num_samples=100,\n",
    "                                                             as_log=True)\n",
    "    X_r, y_r, time_arr_r, targets_r = dataset.get_sensor_cls(matrix,\n",
    "                                                             s_r,\n",
    "                                                             num_samples=100,\n",
    "                                                             as_log=True)\n",
    "    title = f\"Matrix {matrix}, Sensors {s_l} (L) - {s_r} (R)\"\n",
    "\n",
    "    plot_data_pair(X_l, X_r, time_arr_l, title)"
   ]
  },
  {
   "cell_type": "code",
   "execution_count": 7,
   "metadata": {},
   "outputs": [],
   "source": [
    "X, y, time_arr, targets = dataset.get_sensor_pair_cls(0,\n",
    "                                                      (0, 1),\n",
    "                                                      num_samples=100,\n",
    "                                                      as_log=True,\n",
    "                                                      as_mean=False)\n",
    "\n",
    "X_clean, y_clean = dataset.clean_up_regression_data(X, targets)"
   ]
  }
 ],
 "metadata": {
  "kernelspec": {
   "display_name": "mlenv",
   "language": "python",
   "name": "python3"
  },
  "language_info": {
   "codemirror_mode": {
    "name": "ipython",
    "version": 3
   },
   "file_extension": ".py",
   "mimetype": "text/x-python",
   "name": "python",
   "nbconvert_exporter": "python",
   "pygments_lexer": "ipython3",
   "version": "3.12.2"
  }
 },
 "nbformat": 4,
 "nbformat_minor": 2
}
