{
 "cells": [
  {
   "cell_type": "code",
   "execution_count": 7,
   "metadata": {},
   "outputs": [],
   "source": [
    "import pickle\n",
    "import numpy as np\n",
    "import pandas as pd"
   ]
  },
  {
   "cell_type": "code",
   "execution_count": 35,
   "metadata": {},
   "outputs": [],
   "source": [
    "with open(\"raw_sensor_data.pkl\", \"rb\") as f:\n",
    "    sensor_data = pickle.load(f)"
   ]
  },
  {
   "cell_type": "code",
   "execution_count": 36,
   "metadata": {},
   "outputs": [],
   "source": [
    "def build_comparison_df(sensor_data, mat, sensor):\n",
    "    data_lengths = []\n",
    "    for heater_idx in sensor_data[f\"mat_{mat}\"][sensor]:\n",
    "        heater_data_len = sensor_data[f\"mat_{\n",
    "            mat}\"][sensor][heater_idx].shape[0]\n",
    "        data_lengths.append(heater_data_len)\n",
    "\n",
    "    min_len = min(data_lengths)\n",
    "    heater_dict = {}\n",
    "    for heater_idx in sensor_data[f\"mat_{mat}\"][sensor]:\n",
    "        heater_dates = sensor_data[f\"mat_{\n",
    "            mat}\"][sensor][heater_idx][\"Date\"].to_numpy()\n",
    "        heater_data_len = len(heater_dates)\n",
    "        if heater_data_len > min_len:\n",
    "            heater_dates = heater_dates[:min_len]\n",
    "        heater_dict[heater_idx] = heater_dates\n",
    "\n",
    "    for heater_idx in range(1, 10):\n",
    "        diff_seconds = (heater_dict[0] - heater_dict[heater_idx]\n",
    "                        ).astype(\"timedelta64[s]\").astype(np.int32)\n",
    "        heater_dict[f\"d 0-{heater_idx}\"] = diff_seconds\n",
    "\n",
    "    df = pd.DataFrame(heater_dict)\n",
    "    return df"
   ]
  },
  {
   "cell_type": "code",
   "execution_count": 9,
   "metadata": {},
   "outputs": [],
   "source": [
    "def impute_data_mean(df, after):\n",
    "    df_copy = df.copy()\n",
    "    line = df_copy.iloc[after:after+2].mean()\n",
    "\n",
    "    line[\"Sensor Index\"] = int(line[\"Sensor Index\"])\n",
    "    line[\"Sensor ID\"] = int(line[\"Sensor ID\"])\n",
    "    line[\"Time Since PowerOn\"] = int(line[\"Time Since PowerOn\"])\n",
    "    line[\"Real time clock\"] = int(line[\"Real time clock\"])\n",
    "    line[\"Heater Profile Step Index\"] = int(line[\"Heater Profile Step Index\"])\n",
    "    line[\"Scanning Mode Enabled\"] = int(line[\"Scanning Mode Enabled\"])\n",
    "    line[\"Scanning Cycle Index\"] = int(line[\"Scanning Cycle Index\"])\n",
    "    line[\"Label Tag\"] = int(line[\"Label Tag\"])\n",
    "    line[\"Error Code\"] = int(line[\"Error Code\"])\n",
    "    line[\"Date\"] = line[\"Date\"].floor(\"S\")\n",
    "\n",
    "    index = df_copy.iloc[after:after+2].index\n",
    "    index = int((index[0] + index[1]) / 2)\n",
    "    df_copy.loc[index] = line\n",
    "    df_copy.sort_index(inplace=True)\n",
    "    return df_copy"
   ]
  },
  {
   "cell_type": "code",
   "execution_count": 39,
   "metadata": {},
   "outputs": [],
   "source": [
    "MATRIX = 0"
   ]
  },
  {
   "cell_type": "code",
   "execution_count": 40,
   "metadata": {},
   "outputs": [],
   "source": [
    "for i in range(8):\n",
    "    df = build_comparison_df(sensor_data, MATRIX, i)\n",
    "    df.to_excel(f\"mat_{MATRIX}_s{i}_diff.xlsx\")"
   ]
  },
  {
   "cell_type": "code",
   "execution_count": 29,
   "metadata": {},
   "outputs": [
    {
     "data": {
      "text/html": [
       "<div>\n",
       "<style scoped>\n",
       "    .dataframe tbody tr th:only-of-type {\n",
       "        vertical-align: middle;\n",
       "    }\n",
       "\n",
       "    .dataframe tbody tr th {\n",
       "        vertical-align: top;\n",
       "    }\n",
       "\n",
       "    .dataframe thead th {\n",
       "        text-align: right;\n",
       "    }\n",
       "</style>\n",
       "<table border=\"1\" class=\"dataframe\">\n",
       "  <thead>\n",
       "    <tr style=\"text-align: right;\">\n",
       "      <th></th>\n",
       "      <th>Sensor Index</th>\n",
       "      <th>Sensor ID</th>\n",
       "      <th>Time Since PowerOn</th>\n",
       "      <th>Real time clock</th>\n",
       "      <th>Temperature</th>\n",
       "      <th>Pressure</th>\n",
       "      <th>Relative Humidity</th>\n",
       "      <th>Resistance Gassensor</th>\n",
       "      <th>Heater Profile Step Index</th>\n",
       "      <th>Scanning Mode Enabled</th>\n",
       "      <th>Scanning Cycle Index</th>\n",
       "      <th>Label Tag</th>\n",
       "      <th>Error Code</th>\n",
       "      <th>Date</th>\n",
       "    </tr>\n",
       "  </thead>\n",
       "  <tbody>\n",
       "    <tr>\n",
       "      <th>87525</th>\n",
       "      <td>6</td>\n",
       "      <td>355877689</td>\n",
       "      <td>19634632</td>\n",
       "      <td>1728742589</td>\n",
       "      <td>39.307915</td>\n",
       "      <td>920.931213</td>\n",
       "      <td>24.914812</td>\n",
       "      <td>6222560.0</td>\n",
       "      <td>6</td>\n",
       "      <td>1</td>\n",
       "      <td>1</td>\n",
       "      <td>0</td>\n",
       "      <td>0</td>\n",
       "      <td>2024-10-12 17:16:29</td>\n",
       "    </tr>\n",
       "    <tr>\n",
       "      <th>87765</th>\n",
       "      <td>6</td>\n",
       "      <td>355877689</td>\n",
       "      <td>19688361</td>\n",
       "      <td>1728742643</td>\n",
       "      <td>39.460129</td>\n",
       "      <td>920.949646</td>\n",
       "      <td>24.871605</td>\n",
       "      <td>6215478.0</td>\n",
       "      <td>6</td>\n",
       "      <td>1</td>\n",
       "      <td>1</td>\n",
       "      <td>0</td>\n",
       "      <td>0</td>\n",
       "      <td>2024-10-12 17:17:23</td>\n",
       "    </tr>\n",
       "    <tr>\n",
       "      <th>87877</th>\n",
       "      <td>6</td>\n",
       "      <td>355877689</td>\n",
       "      <td>19715221</td>\n",
       "      <td>1728742670</td>\n",
       "      <td>39.412716</td>\n",
       "      <td>920.958740</td>\n",
       "      <td>24.851255</td>\n",
       "      <td>6240335.0</td>\n",
       "      <td>6</td>\n",
       "      <td>1</td>\n",
       "      <td>1</td>\n",
       "      <td>0</td>\n",
       "      <td>0</td>\n",
       "      <td>2024-10-12 17:17:50</td>\n",
       "    </tr>\n",
       "  </tbody>\n",
       "</table>\n",
       "</div>"
      ],
      "text/plain": [
       "       Sensor Index  Sensor ID  Time Since PowerOn  Real time clock  \\\n",
       "87525             6  355877689            19634632       1728742589   \n",
       "87765             6  355877689            19688361       1728742643   \n",
       "87877             6  355877689            19715221       1728742670   \n",
       "\n",
       "       Temperature    Pressure  Relative Humidity  Resistance Gassensor  \\\n",
       "87525    39.307915  920.931213          24.914812             6222560.0   \n",
       "87765    39.460129  920.949646          24.871605             6215478.0   \n",
       "87877    39.412716  920.958740          24.851255             6240335.0   \n",
       "\n",
       "       Heater Profile Step Index  Scanning Mode Enabled  Scanning Cycle Index  \\\n",
       "87525                          6                      1                     1   \n",
       "87765                          6                      1                     1   \n",
       "87877                          6                      1                     1   \n",
       "\n",
       "       Label Tag  Error Code                Date  \n",
       "87525          0           0 2024-10-12 17:16:29  \n",
       "87765          0           0 2024-10-12 17:17:23  \n",
       "87877          0           0 2024-10-12 17:17:50  "
      ]
     },
     "execution_count": 29,
     "metadata": {},
     "output_type": "execute_result"
    }
   ],
   "source": [
    "sensor_data[f\"mat_{MATRIX}\"][6][6].iloc[729:732]"
   ]
  },
  {
   "cell_type": "code",
   "execution_count": 31,
   "metadata": {},
   "outputs": [],
   "source": [
    "sensor = 6\n",
    "heater = 6\n",
    "after = 729\n",
    "df_copy = impute_data_mean(sensor_data[f\"mat_{MATRIX}\"][sensor][heater], after)\n",
    "df_copy.iloc[after:after+4]\n",
    "# sensor_data[f\"mat_{MATRIX}\"][sensor][heater] = df_copy.copy()"
   ]
  },
  {
   "cell_type": "code",
   "execution_count": 34,
   "metadata": {},
   "outputs": [],
   "source": [
    "with open(\"imputed_sensor_data.pkl\", \"wb\") as f:\n",
    "    pickle.dump(sensor_data, f)"
   ]
  }
 ],
 "metadata": {
  "kernelspec": {
   "display_name": "mlenv",
   "language": "python",
   "name": "python3"
  },
  "language_info": {
   "codemirror_mode": {
    "name": "ipython",
    "version": 3
   },
   "file_extension": ".py",
   "mimetype": "text/x-python",
   "name": "python",
   "nbconvert_exporter": "python",
   "pygments_lexer": "ipython3",
   "version": "3.12.2"
  }
 },
 "nbformat": 4,
 "nbformat_minor": 2
}
